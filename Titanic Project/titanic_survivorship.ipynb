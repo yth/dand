{
 "cells": [
  {
   "cell_type": "markdown",
   "metadata": {},
   "source": [
    "# Titanic Survivorship Data\n",
    "\n",
    "On April 15, 1912, Titanic sank after colliding with an iceberg. 1502 out of 2224 souls on board perished in the incident. The survivorship data contain information about 891 passengers. Less than 40% of the passengers in the data set survived.\n",
    "\n",
    "This analysis focus primarily on the how various factors might improve someone's survival chances in a disaster like the sinking of the Titanic. Does having close relations who can help improve one's odds, can having existing resources help to save oneself from disaster, or, perhaps, is one's lucky of being at the right spot at the right time all that matters?"
   ]
  },
  {
   "cell_type": "code",
   "execution_count": 1,
   "metadata": {},
   "outputs": [],
   "source": [
    "# Standard imports and boilerplate\n",
    "\n",
    "import numpy as np\n",
    "import pandas as pd\n",
    "import matplotlib as mpl\n",
    "import matplotlib.pyplot as plt\n",
    "import seaborn as sns\n",
    "sns.set()\n",
    "\n",
    "# Helper Function\n",
    "\n",
    "def survival_rate(df):\n",
    "    return df[\"Survived\"].sum() / len(df) "
   ]
  },
  {
   "cell_type": "code",
   "execution_count": 2,
   "metadata": {},
   "outputs": [
    {
     "name": "stdout",
     "output_type": "stream",
     "text": [
      "Index(['PassengerId', 'Survived', 'Pclass', 'Name', 'Sex', 'Age', 'SibSp',\n",
      "       'Parch', 'Ticket', 'Fare', 'Cabin', 'Embarked'],\n",
      "      dtype='object')\n"
     ]
    }
   ],
   "source": [
    "# Read in the Titanic Data\n",
    "\n",
    "titanic_pd = pd.read_csv(\"titanic-data.csv\")\n",
    "print(titanic_pd.columns)\n"
   ]
  },
  {
   "cell_type": "markdown",
   "metadata": {},
   "source": [
    "According to the Kaggle website, the columns are defined as follows:\n",
    "    \n",
    "    PassengerId - Unique ID for passengers\n",
    "    Survived - 0->no, 1->yes\n",
    "    Pclass - Approximate social-economic status\n",
    "    Name - Name of passenger\n",
    "    Sex - Sex\n",
    "    Age - Age in years\n",
    "    SibSp - # of siblings or spouses on board\n",
    "    Parch - # of parents or children on board\n",
    "    Ticket - Ticket number\n",
    "    Fare - Passenger fare\n",
    "    Cabin - Cabin number if applicable, NaN otherwise\n",
    "    Embarked - Port of embarkasion\n",
    "\n",
    "Special Definitions\n",
    "\n",
    "    Pclass - 1 = upper, 2 = middle, 3 = lower\n",
    "    SibSp - brothers/sisters/stepsiblings/husbands/wifes (mistress/fiances are ignored)\n",
    "    Parch - mother/father/daughter/son/step-daughter/step-son (nannies are ignored)\n",
    "    \n",
    "https://www.kaggle.com/c/titanic/data"
   ]
  },
  {
   "cell_type": "code",
   "execution_count": 3,
   "metadata": {},
   "outputs": [
    {
     "name": "stdout",
     "output_type": "stream",
     "text": [
      "   PassengerId  Survived  Pclass  \\\n",
      "0            1         0       3   \n",
      "1            2         1       1   \n",
      "2            3         1       3   \n",
      "3            4         1       1   \n",
      "4            5         0       3   \n",
      "\n",
      "                                                Name     Sex   Age  SibSp  \\\n",
      "0                            Braund, Mr. Owen Harris    male  22.0      1   \n",
      "1  Cumings, Mrs. John Bradley (Florence Briggs Th...  female  38.0      1   \n",
      "2                             Heikkinen, Miss. Laina  female  26.0      0   \n",
      "3       Futrelle, Mrs. Jacques Heath (Lily May Peel)  female  35.0      1   \n",
      "4                           Allen, Mr. William Henry    male  35.0      0   \n",
      "\n",
      "   Parch            Ticket     Fare Cabin Embarked  \n",
      "0      0         A/5 21171   7.2500   NaN        S  \n",
      "1      0          PC 17599  71.2833   C85        C  \n",
      "2      0  STON/O2. 3101282   7.9250   NaN        S  \n",
      "3      0            113803  53.1000  C123        S  \n",
      "4      0            373450   8.0500   NaN        S  \n"
     ]
    }
   ],
   "source": [
    "#Initial look at the data\n",
    "\n",
    "print(titanic_pd.head())"
   ]
  },
  {
   "cell_type": "code",
   "execution_count": 4,
   "metadata": {},
   "outputs": [
    {
     "name": "stdout",
     "output_type": "stream",
     "text": [
      "Age\n",
      "Cabin\n",
      "Embarked\n"
     ]
    }
   ],
   "source": [
    "# From the above, there are clearly NaN values in Cabin column.\n",
    "# To remove all NaN in the data, let's find the columns that contain NaN\n",
    "\n",
    "for col in titanic_pd.columns:\n",
    "    for e in titanic_pd[col].isnull():\n",
    "        if e == True:\n",
    "            print(col)\n",
    "            break"
   ]
  },
  {
   "cell_type": "code",
   "execution_count": 12,
   "metadata": {},
   "outputs": [],
   "source": [
    "# Deal with NaN in Age\n",
    "# Change NaN in Age to 0 to indicate missing age information.\n",
    "# Babies with age less than 1 have fractional ages.\n",
    "\n",
    "titanic_pd[\"Age\"].fillna(value=0);"
   ]
  },
  {
   "cell_type": "code",
   "execution_count": 6,
   "metadata": {},
   "outputs": [],
   "source": [
    "# Deal with NaN in Cabin\n",
    "\n",
    "# Without knowing more, the cabin number does not provide more info\n",
    "# beyond someone having a cabin, which is all I need for my analysis.\n",
    "# Change value to 1 to reflect the passenger having a cabin\n",
    "# Change value to 0 to reflect the passenger not having a cabin\n",
    "\n",
    "# Most people do not have a cabin, thus most likely people with NaN \n",
    "# value for their cabin information do not have a cabin. For simplicity,\n",
    "# I will assume that people with NaN in their cabin data do not have\n",
    "# cabins, and set their values to 0.\n",
    "\n",
    "titanic_pd[\"Cabin\"] = titanic_pd[\"Cabin\"].notnull().astype(\"int\");"
   ]
  },
  {
   "cell_type": "code",
   "execution_count": 13,
   "metadata": {},
   "outputs": [],
   "source": [
    "# Deal with NaN in Embarked\n",
    "# Change NaN in Embarked to 0 to represent no knowledge of the port of embarkation\n",
    "# Port of embarkation is also uninteresting for my analysis\n",
    "\n",
    "titanic_pd[\"Embarked\"].fillna(value=0);"
   ]
  },
  {
   "cell_type": "code",
   "execution_count": 8,
   "metadata": {},
   "outputs": [
    {
     "name": "stdout",
     "output_type": "stream",
     "text": [
      "Total Passengers in Data Set: 891\n",
      "Overall Survivorship: 38.4%\n",
      "Possible Factors:\n",
      "\tPassengerId\n",
      "\tSurvived\n",
      "\tPclass\n",
      "\tName\n",
      "\tSex\n",
      "\tAge\n",
      "\tSibSp\n",
      "\tParch\n",
      "\tTicket\n",
      "\tFare\n",
      "\tCabin\n",
      "\tEmbarked\n"
     ]
    },
    {
     "data": {
      "text/plain": [
       "[Text(0,0.5,'Survivorship (1 = Survived, 0 = Perished)'),\n",
       " Text(0.5,0,'Number of Survivors')]"
      ]
     },
     "execution_count": 8,
     "metadata": {},
     "output_type": "execute_result"
    },
    {
     "data": {
      "image/png": "[encoded data removed]",
      "text/plain": [
       "<matplotlib.figure.Figure at 0x8dd4890>"
      ]
     },
     "metadata": {},
     "output_type": "display_data"
    }
   ],
   "source": [
    "# Looking at the data\n",
    "overall_survival = survival_rate(titanic_pd)\n",
    "\n",
    "print(\"Total Passengers in Data Set:\", len(titanic_pd))\n",
    "print(\"Overall Survivorship:\", str(round(overall_survival, 3)*100)+\"%\")\n",
    "print(\"Possible Factors:\")\n",
    "for col in titanic_pd.columns:\n",
    "    print(\"\\t\"+col)\n",
    "\n",
    "%matplotlib inline\n",
    "graph_title = \"Overall Survival Passenger Figure in Kaggle Titanic Data Set\"\n",
    "titanic_pd.groupby(\"Survived\").size().plot(kind=\"barh\",\n",
    "                                           title=graph_title).set(xlabel=\"Number of Survivors\",\n",
    "                                                                  ylabel=\"Survivorship (1 = Survived, 0 = Perished)\")"
   ]
  },
  {
   "cell_type": "code",
   "execution_count": 9,
   "metadata": {},
   "outputs": [
    {
     "name": "stdout",
     "output_type": "stream",
     "text": [
      "Number of passengers with at least one sibling or spouse: 283\n",
      "Survivor Rate: 0.466431095406\n",
      "\n",
      "Number of passengers with no sibling or spouse: 608\n",
      "Survivor Rate: 0.345394736842\n",
      "\n"
     ]
    },
    {
     "data": {
      "image/png": "[encoded data removed]",
      "text/plain": [
       "<matplotlib.figure.Figure at 0x8d6d770>"
      ]
     },
     "metadata": {},
     "output_type": "display_data"
    }
   ],
   "source": [
    "# Does having a close relation such as a parent/child or sibling/spouse\n",
    "# improve the odds?\n",
    "# I am going to look at the SibSp and Parch for this information.\n",
    "# First let's look at the SibSp\n",
    "\n",
    "has_sibsp_pd = titanic_pd[titanic_pd[\"SibSp\"] > 0]\n",
    "no_sibsp_pd = titanic_pd[titanic_pd[\"SibSp\"] == 0]\n",
    "has_sibsp_survival = survival_rate(has_sibsp_pd)\n",
    "no_sibsp_survival = survival_rate(no_sibsp_pd)\n",
    "print(\"Number of passengers with at least one sibling or spouse:\",\n",
    "      len(has_sibsp_pd))\n",
    "print(\"Survivor Rate:\", has_sibsp_survival)\n",
    "print()\n",
    "print(\"Number of passengers with no sibling or spouse:\",\n",
    "      len(no_sibsp_pd))\n",
    "print(\"Survivor Rate:\", no_sibsp_survival)\n",
    "print()\n",
    "\n",
    "%matplotlib inline\n",
    "plt.title(\"Impact of SibSp on Survival for passengers on Titantic (fine gradient)\")\n",
    "sns.barplot(x=\"SibSp\", y=\"Survived\", data=titanic_pd).set(xlabel='Number of SibSp', ylabel='Survival Rate')\n",
    "plt.show()"
   ]
  },
  {
   "cell_type": "code",
   "execution_count": 10,
   "metadata": {},
   "outputs": [
    {
     "name": "stdout",
     "output_type": "stream",
     "text": [
      "Number of passengers with at least one parent/child on board: 213\n",
      "Survivor Rate: 0.511737089202\n",
      "Number of passengers with no parent/child on board: 678\n",
      "Survivor Rate: 0.343657817109\n"
     ]
    },
    {
     "data": {
      "image/png": "[encoded data removed]",
      "text/plain": [
       "<matplotlib.figure.Figure at 0x8d6da50>"
      ]
     },
     "metadata": {},
     "output_type": "display_data"
    }
   ],
   "source": [
    "# Let's look at the ParCh\n",
    "\n",
    "has_parch_pd = titanic_pd[titanic_pd[\"Parch\"] > 0]\n",
    "has_parch_survival = survival_rate(has_parch_pd)\n",
    "no_parch_pd = titanic_pd[titanic_pd[\"Parch\"] == 0]\n",
    "no_parch_survival = survival_rate(no_parch_pd)\n",
    "\n",
    "print(\"Number of passengers with at least one parent/child on board:\",\n",
    "      len(has_parch_pd))\n",
    "print(\"Survivor Rate:\", has_parch_survival)\n",
    "print(\"Number of passengers with no parent/child on board:\",\\\n",
    "      len(no_parch_pd))\n",
    "print(\"Survivor Rate:\", no_parch_survival)\n",
    "\n",
    "%matplotlib inline\n",
    "plt.title(\"Impact of Parch on Survival for passengers on Titantic (fine gradient)\")\n",
    "sns.barplot(x=\"Parch\", y=\"Survived\", data=titanic_pd).set(xlabel='Number of Parch', ylabel='Survival Rate')\n",
    "plt.show()"
   ]
  },
  {
   "cell_type": "code",
   "execution_count": 19,
   "metadata": {},
   "outputs": [
    {
     "name": "stdout",
     "output_type": "stream",
     "text": [
      "Number of male passengers: 577\n",
      "Survival Rate: 0.188908145581\n",
      "\n",
      "Number of female passengers: 314\n",
      "Survival Rate: 0.742038216561\n",
      "\n",
      "Number of passengers in first class: 216\n",
      "Males: 122\n",
      "Females: 94\n",
      "Overall Survival Rate: 0.62962962963\n",
      "Male survival rate in first class: 0.368852459016\n",
      "Female survival rate in first class: 0.968085106383\n",
      "\n",
      "Number of passengers in second class: 184\n",
      "Males: 108\n",
      "Females: 76\n",
      "Overall Survival Rate: 0.472826086957\n",
      "Male survival rate in second class: 0.157407407407\n",
      "Female survival rate in second class: 0.921052631579\n",
      "\n",
      "Number of passengers in third class: 491\n",
      "Males: 347\n",
      "Females: 144\n",
      "Overall Survival Rate: 0.242362525458\n",
      "Male survival rate in third class: 0.135446685879\n",
      "Female survival rate in third class: 0.5\n",
      "\n"
     ]
    }
   ],
   "source": [
    "# Does having additional resources such as being male\n",
    "# (potentially physically stronger) or having wealth improve the odds?\n",
    "# I am going to look at the Sex and Pclass columns for this information.\n",
    "\n",
    "male_passengers_pd = titanic_pd[titanic_pd[\"Sex\"] == \"male\"]\n",
    "female_passengers_pd = titanic_pd[titanic_pd[\"Sex\"] == \"female\"]\n",
    "\n",
    "first_class_pd = titanic_pd[titanic_pd[\"Pclass\"] == 1]\n",
    "first_class_male_pd = male_passengers_pd[male_passengers_pd[\"Pclass\"] == 1]\n",
    "first_class_female_pd = female_passengers_pd[female_passengers_pd[\"Pclass\"] == 1]\n",
    "\n",
    "second_class_pd = titanic_pd[titanic_pd[\"Pclass\"] == 2]\n",
    "second_class_male_pd = male_passengers_pd[male_passengers_pd[\"Pclass\"] == 2]\n",
    "second_class_female_pd = female_passengers_pd[female_passengers_pd[\"Pclass\"] == 2]\n",
    "\n",
    "third_class_pd = titanic_pd[titanic_pd[\"Pclass\"] == 3]\n",
    "third_class_male_pd = male_passengers_pd[male_passengers_pd[\"Pclass\"] == 3]\n",
    "third_class_female_pd = female_passengers_pd[female_passengers_pd[\"Pclass\"] == 3]\n",
    "\n",
    "print(\"Number of male passengers:\",len(male_passengers_pd))\n",
    "print(\"Survival Rate:\", survival_rate(male_passengers_pd))\n",
    "print()\n",
    "\n",
    "print(\"Number of female passengers:\",len(female_passengers_pd))\n",
    "print(\"Survival Rate:\", survival_rate(female_passengers_pd))\n",
    "print()\n",
    "\n",
    "print(\"Number of passengers in first class:\", len(first_class_pd))\n",
    "print(\"Males:\", len(first_class_male_pd))\n",
    "print(\"Females:\", len(first_class_female_pd))\n",
    "print(\"Overall Survival Rate:\", survival_rate(first_class_pd))\n",
    "print(\"Male survival rate in first class:\", survival_rate(first_class_male_pd))\n",
    "print(\"Female survival rate in first class:\", survival_rate(first_class_female_pd))\n",
    "print()\n",
    "\n",
    "print(\"Number of passengers in second class:\", len(second_class_pd))\n",
    "print(\"Males:\", len(second_class_male_pd))\n",
    "print(\"Females:\", len(second_class_female_pd))\n",
    "print(\"Overall Survival Rate:\", survival_rate(second_class_pd))\n",
    "print(\"Male survival rate in second class:\", survival_rate(second_class_male_pd))\n",
    "print(\"Female survival rate in second class:\", survival_rate(second_class_female_pd))\n",
    "print()\n",
    "\n",
    "print(\"Number of passengers in third class:\", len(third_class_pd))\n",
    "print(\"Males:\", len(third_class_male_pd))\n",
    "print(\"Females:\", len(third_class_female_pd))\n",
    "print(\"Overall Survival Rate:\", survival_rate(third_class_pd))\n",
    "print(\"Male survival rate in third class:\", survival_rate(third_class_male_pd))\n",
    "print(\"Female survival rate in third class:\", survival_rate(third_class_female_pd))\n",
    "print()"
   ]
  },
  {
   "cell_type": "code",
   "execution_count": 25,
   "metadata": {},
   "outputs": [
    {
     "name": "stdout",
     "output_type": "stream",
     "text": [
      "Number of passengers with a cabin: 204\n",
      "Survival Rate: 0.666666666667\n",
      "\n",
      "Number of passengers without a cabin: 687\n",
      "Survival Rate: 0.299854439592\n",
      "\n"
     ]
    },
    {
     "data": {
      "image/png": "[encoded data removed]",
      "text/plain": [
       "<matplotlib.figure.Figure at 0x8d6dc10>"
      ]
     },
     "metadata": {},
     "output_type": "display_data"
    }
   ],
   "source": [
    "# Does having one's sleeping quarters on particular areas on the ship help with survival?\n",
    "# I am going to use Cabin information for this information.\n",
    "# Since I don't have a map of the ship that would show where the cabins are located,\n",
    "# I'll just use cabin as a generally more desirable place to live, and an indicator for wealth,\n",
    "# or having othe resources\n",
    "\n",
    "has_cabin_pd = titanic_pd[titanic_pd[\"Cabin\"] == 1]\n",
    "no_cabin_pd = titanic_pd[titanic_pd[\"Cabin\"] == 0]\n",
    "\n",
    "print(\"Number of passengers with a cabin:\", len(has_cabin_pd))\n",
    "print(\"Survival Rate:\", survival_rate(has_cabin_pd))\n",
    "print()\n",
    "\n",
    "print(\"Number of passengers without a cabin:\", len(no_cabin_pd))\n",
    "print(\"Survival Rate:\", survival_rate(no_cabin_pd))\n",
    "print()\n",
    "\n",
    "%matplotlib inline\n",
    "plt.title(\"Desirability of having a cabin (or how having a cabin can help one survive)\")\n",
    "sns.barplot(x=\"Cabin\", y=\"Survived\", data=titanic_pd).set(xlabel='Having a Cabin (0 = No, 1 = Yes)',\n",
    "                                                          ylabel='Survival Rate')\n",
    "plt.show()"
   ]
  },
  {
   "cell_type": "markdown",
   "metadata": {},
   "source": [
    "# Conclusion\n",
    "\n",
    "There were 2224 souls on board of Titanic when it sank. However, there is only data for 891 of them in this data set. Any conclusions drawn based only on this data set would be suspect, since the fates for more than half of the souls on board of the Titanic are not contained in this data set. However, if this is all the information that can be had, it can still serve to point out interesting survivorship trends. If the 891 data points are randomly drawn from a data set containing everyone on board of Titanic, it might still serve as a representative example.\n",
    "\n",
    "Among the various factors analyzed, being a woman correlated most highly with being a survivor from the sinking of the Titanic. Having wealth, having strong social connections, and having more favorable living accommodations--the Titanic hit the iceberg in the middle of the night, and presumably most people would be in their living quarters at that time--all improved one's odd of survival. Being from the first class in society drastically increased one's odds of survival. Having a cabin on board doubles one's chance of living through the sinking of the Titanic. However, the seemingly neglible factor of one's sex seems to drastically increase one's chance. Among the 314 female passengers, approximately 74% survived, while only approximately 19% among the male passengers did.\n",
    "\n",
    "Combined with information obtained from other analyses, an interesting picture seems to emerge. Most of the survivors are women. They probably had their family around them--their siblings, spouses and/or children. Most of these family groups would be relatively well off. Many of them survived. Conversely, those who perished in the disaster are much more likely to be unattached men from a poorer socioeconomic background. \n",
    "\n",
    "Based on the initial analysis, it seems that social forces shape the destiny of the people even under the dire circumstances of the sinking of an ocean liner. Next step of the analysis would be to isolate the impact that each factor has on survivorship, and see if there are any combination affects that produce a greater impact than expected. "
   ]
  },
  {
   "cell_type": "code",
   "execution_count": null,
   "metadata": {},
   "outputs": [],
   "source": []
  }
 ],
 "metadata": {
  "anaconda-cloud": {},
  "kernelspec": {
   "display_name": "Python 3",
   "language": "python",
   "name": "python3"
  },
  "language_info": {
   "codemirror_mode": {
    "name": "ipython",
    "version": 3
   },
   "file_extension": ".py",
   "mimetype": "text/x-python",
   "name": "python",
   "nbconvert_exporter": "python",
   "pygments_lexer": "ipython3",
   "version": "3.6.4"
  }
 },
 "nbformat": 4,
 "nbformat_minor": 2
}
